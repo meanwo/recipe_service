{
 "cells": [
  {
   "cell_type": "code",
   "execution_count": 1,
   "metadata": {},
   "outputs": [],
   "source": [
    "import requests\n",
    "from bs4 import BeautifulSoup\n",
    "import time\n",
    "import pandas as pd"
   ]
  },
  {
   "cell_type": "code",
   "execution_count": 2,
   "metadata": {},
   "outputs": [],
   "source": [
    "def find_recipe_links(start = 1, end = 100):\n",
    "    if not isinstance(start, int) or not isinstance(start, int):\n",
    "        raise Exception('Start, End 페이지가 정수 형태가 아닙니다.')\n",
    "\n",
    "    elif start < 1:\n",
    "        raise Exception('Start 페이지가 1보다 작습니다')\n",
    "\n",
    "    url_links = []\n",
    "    for i in range(start, end+1):\n",
    "        url = f\"https://www.10000recipe.com/recipe/list.html?order=reco&page={i+1}\"\n",
    "        html = requests.get(url).text\n",
    "        soup = BeautifulSoup(html, \"lxml\")\n",
    "\n",
    "        result = soup.select('#contents_area_full > ul > ul > li.common_sp_list_li > div.common_sp_thumb > a.common_sp_link')\n",
    "        url_links += [re.attrs['href'] for re in result]\n",
    "\n",
    "        if i % 10 == 0:\n",
    "            time.sleep(0.5)\n",
    "    \n",
    "    return url_links"
   ]
  },
  {
   "cell_type": "code",
   "execution_count": 28,
   "metadata": {},
   "outputs": [],
   "source": [
    "\n",
    "def find_ingredient(link):\n",
    "    url = f'https://www.10000recipe.com{link}'\n",
    "    html = requests.get(url).text\n",
    "    soup = BeautifulSoup(html, \"lxml\")\n",
    "    \n",
    "    selectors = ['#divConfirmedMaterialArea > ul:nth-of-type(1) > a > li',\n",
    "    '#divConfirmedMaterialArea > ul:nth-of-type(2) > a > li',\n",
    "    '#divConfirmedMaterialArea > ul:nth-of-type(1) > li',\n",
    "    \n",
    "                ]\n",
    "\n",
    "    ingredients = []\n",
    "    for sel in selectors:\n",
    "        try:\n",
    "            result = soup.select(sel)\n",
    "        except:\n",
    "            continue\n",
    "        for i in result:\n",
    "            ingredients.append(i.contents[0].strip())\n",
    "\n",
    "    # 메뉴가 2개 이하이거나 None일 때\n",
    "    if len(ingredients) < 2:\n",
    "        return None\n",
    "    try:\n",
    "        name = soup.select('#contents_area > div.view2_summary.st3 > h3')[0].contents[0].strip()\n",
    "        image = soup.select('#main_thumbs')[0].attrs['src']\n",
    "    except:\n",
    "        return None\n",
    "    \n",
    "    return name, ingredients, image, url\n"
   ]
  },
  {
   "cell_type": "code",
   "execution_count": 18,
   "metadata": {},
   "outputs": [
    {
     "name": "stdout",
     "output_type": "stream",
     "text": [
      "('[간단 자취요리] 몽쉘로 쫀득쫀득 컵브라우니 만들기!', ['우유', '초콜릿', '몽쉘카카오맛'], 'https://recipe1.ezmember.co.kr/cache/recipe/2017/02/15/8fc58374cdba7cdf0beebac7f38ea2971.jpg')\n"
     ]
    }
   ],
   "source": [
    "a = find_ingredient('/recipe/6865340')\n",
    "print(a)\n"
   ]
  },
  {
   "cell_type": "code",
   "execution_count": 29,
   "metadata": {
    "scrolled": true
   },
   "outputs": [
    {
     "name": "stdout",
     "output_type": "stream",
     "text": [
      "링크 수집 완료\n",
      "0\n",
      "100\n",
      "200\n",
      "300\n",
      "400\n",
      "500\n",
      "600\n",
      "700\n",
      "800\n",
      "900\n",
      "1000\n",
      "1100\n",
      "1200\n",
      "1300\n",
      "1400\n",
      "1500\n",
      "1600\n",
      "1700\n",
      "1800\n",
      "1900\n",
      "2000\n",
      "2100\n",
      "2200\n",
      "2300\n",
      "2400\n",
      "2500\n",
      "2600\n",
      "2700\n",
      "2800\n",
      "2900\n",
      "3000\n",
      "3100\n",
      "3200\n",
      "3300\n",
      "3400\n",
      "3500\n",
      "3600\n",
      "3700\n",
      "3800\n",
      "3900\n",
      "4000\n",
      "완료\n"
     ]
    }
   ],
   "source": [
    "recipe_data = []\n",
    "\n",
    "url_links = find_recipe_links(270, 371)\n",
    "print('링크 수집 완료')\n",
    "\n",
    "for idx, link in enumerate(url_links):\n",
    "    tmp = find_ingredient(link)\n",
    "    if tmp != None:\n",
    "        recipe_data.append(tmp)\n",
    "                           \n",
    "    if idx % 100 == 0:\n",
    "        print(idx)\n",
    "\n",
    "\n",
    "print('완료')\n",
    "\n",
    "\n"
   ]
  },
  {
   "cell_type": "code",
   "execution_count": 30,
   "metadata": {},
   "outputs": [],
   "source": [
    "\n",
    "names = []\n",
    "ingres = []\n",
    "images = []\n",
    "urls = []\n",
    "\n",
    "for name, ingre, image, url in recipe_data:\n",
    "    names.append(name)\n",
    "    ingres.append(ingre)\n",
    "    images.append(image)\n",
    "    urls.append(url)\n"
   ]
  },
  {
   "cell_type": "code",
   "execution_count": 31,
   "metadata": {},
   "outputs": [
    {
     "data": {
      "text/plain": [
       "4054"
      ]
     },
     "execution_count": 31,
     "metadata": {},
     "output_type": "execute_result"
    }
   ],
   "source": [
    "len(url_links)"
   ]
  },
  {
   "cell_type": "code",
   "execution_count": null,
   "metadata": {},
   "outputs": [],
   "source": []
  },
  {
   "cell_type": "code",
   "execution_count": 32,
   "metadata": {},
   "outputs": [],
   "source": [
    "new_ingre = []\n",
    "# names = recipe_data.keys()\n",
    "# ingre = list(recipe_data.values())\n",
    "# # print(ingre)\n",
    "# ingre2 = []\n",
    "for i in range(len(ingres)):\n",
    "    new_ingre.append(','.join(ingres[i]))\n",
    "\n",
    "\n"
   ]
  },
  {
   "cell_type": "code",
   "execution_count": 33,
   "metadata": {},
   "outputs": [
    {
     "name": "stdout",
     "output_type": "stream",
     "text": [
      "3977\n",
      "3977\n",
      "3977\n"
     ]
    }
   ],
   "source": [
    "print(len(names))\n",
    "print(len(ingres))\n",
    "print(len(images))\n",
    "df = pd.DataFrame({'이름' : names, '재료' : new_ingre, '이미지' : images, 'URL' : urls})\n",
    "df\n",
    "df.to_excel('recipe_db_2.xlsx', index=False )\n"
   ]
  },
  {
   "cell_type": "code",
   "execution_count": null,
   "metadata": {},
   "outputs": [],
   "source": []
  }
 ],
 "metadata": {
  "interpreter": {
   "hash": "84e1dbaed3eafe8cdc77747fcf9661591c47f5d67a6841fe073329046c9384fc"
  },
  "kernelspec": {
   "display_name": "Python 3 (ipykernel)",
   "language": "python",
   "name": "python3"
  },
  "language_info": {
   "codemirror_mode": {
    "name": "ipython",
    "version": 3
   },
   "file_extension": ".py",
   "mimetype": "text/x-python",
   "name": "python",
   "nbconvert_exporter": "python",
   "pygments_lexer": "ipython3",
   "version": "3.8.11"
  }
 },
 "nbformat": 4,
 "nbformat_minor": 2
}
